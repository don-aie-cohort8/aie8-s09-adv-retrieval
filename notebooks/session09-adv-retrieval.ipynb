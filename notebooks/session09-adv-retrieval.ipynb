{
  "cells": [
    {
      "cell_type": "markdown",
      "metadata": {
        "id": "e-IqJAMkwnCF"
      },
      "source": [
        "# Advanced Retrieval with LangChain"
      ]
    },
    {
      "cell_type": "code",
      "execution_count": 1,
      "metadata": {
        "colab": {
          "base_uri": "https://localhost:8080/"
        },
        "id": "7LttlDQUYgSI",
        "outputId": "9dca95ab-4d02-4adf-ec3f-cb831326dc54"
      },
      "outputs": [],
      "source": [
        "# Standard Library Imports\n",
        "import getpass\n",
        "import os\n",
        "from datetime import datetime, timedelta\n",
        "from operator import itemgetter\n",
        "from uuid import uuid4\n",
        "\n",
        "# Third-Party Imports\n",
        "# LangChain Core\n",
        "from langchain.retrievers import EnsembleRetriever, ParentDocumentRetriever\n",
        "from langchain.retrievers.contextual_compression import ContextualCompressionRetriever\n",
        "from langchain.retrievers.multi_query import MultiQueryRetriever\n",
        "from langchain.storage import InMemoryStore\n",
        "from langchain_text_splitters import RecursiveCharacterTextSplitter\n",
        "\n",
        "from langchain_core.output_parsers import StrOutputParser\n",
        "from langchain_core.prompts import ChatPromptTemplate\n",
        "from langchain_core.runnables import RunnablePassthrough\n",
        "\n",
        "# LangChain Community\n",
        "from langchain_community.document_loaders.csv_loader import CSVLoader\n",
        "from langchain_community.retrievers import BM25Retriever\n",
        "from langchain_community.vectorstores import Qdrant\n",
        "\n",
        "# LangChain Integrations\n",
        "from langchain_cohere import CohereRerank\n",
        "from langchain_experimental.text_splitter import SemanticChunker\n",
        "from langchain_openai import ChatOpenAI, OpenAIEmbeddings\n",
        "from langchain_qdrant import QdrantVectorStore\n",
        "\n",
        "# Qdrant\n",
        "from qdrant_client import QdrantClient, models\n",
        "\n",
        "# Local Application Imports\n",
        "# (none yet)\n"
      ]
    },
    {
      "cell_type": "code",
      "execution_count": 2,
      "metadata": {
        "colab": {
          "base_uri": "https://localhost:8080/"
        },
        "id": "3iUahNiJyQbv",
        "outputId": "78bf06ef-2ee8-46c3-f73d-27958b4dd79b"
      },
      "outputs": [],
      "source": [
        "os.environ[\"OPENAI_API_KEY\"] = getpass.getpass(\"Enter your OpenAI API Key:\")\n",
        "os.environ[\"COHERE_API_KEY\"] = getpass.getpass(\"Cohere API Key:\")\n",
        "os.environ[\"LANGCHAIN_API_KEY\"] = getpass.getpass(\"LangChain API Key:\")\n",
        "os.environ[\"LANGCHAIN_TRACING_V2\"] = \"true\"\n",
        "os.environ[\"LANGCHAIN_PROJECT\"] = f\"AIM - SDG - {uuid4().hex[0:8]}\""
      ]
    },
    {
      "cell_type": "code",
      "execution_count": 3,
      "metadata": {},
      "outputs": [],
      "source": [
        "chat_model = ChatOpenAI(model=\"gpt-4.1-nano\")\n",
        "embeddings = OpenAIEmbeddings(model=\"text-embedding-3-small\")"
      ]
    },
    {
      "cell_type": "code",
      "execution_count": 4,
      "metadata": {
        "id": "7uSz-Dbqcoki"
      },
      "outputs": [],
      "source": [
        "RAG_TEMPLATE = \"\"\"\\\n",
        "You are a helpful and kind assistant. Use the context provided below to answer the question.\n",
        "\n",
        "If you do not know the answer, or are unsure, say you don't know.\n",
        "\n",
        "Query:\n",
        "{question}\n",
        "\n",
        "Context:\n",
        "{context}\n",
        "\"\"\"\n",
        "\n",
        "rag_prompt = ChatPromptTemplate.from_template(RAG_TEMPLATE)"
      ]
    },
    {
      "cell_type": "code",
      "execution_count": 5,
      "metadata": {
        "id": "GshBjVRJZ6p8"
      },
      "outputs": [],
      "source": [
        "loader = CSVLoader(\n",
        "    file_path=f\"../data/Projects_with_Domains.csv\",\n",
        "    metadata_columns=[\n",
        "      \"Project Title\",\n",
        "      \"Project Domain\",\n",
        "      \"Secondary Domain\",\n",
        "      \"Description\",\n",
        "      \"Judge Comments\",\n",
        "      \"Score\",\n",
        "      \"Project Name\",\n",
        "      \"Judge Score\"\n",
        "    ]\n",
        ")\n",
        "\n",
        "synthetic_usecase_data = loader.load()\n",
        "\n",
        "for doc in synthetic_usecase_data:\n",
        "    doc.page_content = doc.metadata[\"Description\"]"
      ]
    },
    {
      "cell_type": "code",
      "execution_count": 6,
      "metadata": {
        "colab": {
          "base_uri": "https://localhost:8080/"
        },
        "id": "PkUkCf7DaMiq",
        "outputId": "e90bd5da-1d87-423b-838a-cb6efc16b199"
      },
      "outputs": [
        {
          "data": {
            "text/plain": [
              "Document(metadata={'source': '../data/Projects_with_Domains.csv', 'row': 0, 'Project Title': 'InsightAI 1', 'Project Domain': 'Security', 'Secondary Domain': 'Finance / FinTech', 'Description': 'A low-latency inference system for multimodal agents in autonomous systems.', 'Judge Comments': 'Technically ambitious and well-executed.', 'Score': '85', 'Project Name': 'Project Aurora', 'Judge Score': '9.5'}, page_content='A low-latency inference system for multimodal agents in autonomous systems.')"
            ]
          },
          "execution_count": 6,
          "metadata": {},
          "output_type": "execute_result"
        }
      ],
      "source": [
        "synthetic_usecase_data[0]"
      ]
    },
    {
      "cell_type": "markdown",
      "metadata": {},
      "source": [
        "## Vector Stores"
      ]
    },
    {
      "cell_type": "markdown",
      "metadata": {},
      "source": [
        "### Naive Vector Store"
      ]
    },
    {
      "cell_type": "code",
      "execution_count": 7,
      "metadata": {
        "id": "NT8ihRJbYmMT"
      },
      "outputs": [],
      "source": [
        "vectorstore = Qdrant.from_documents(\n",
        "    synthetic_usecase_data,\n",
        "    embeddings,\n",
        "    location=\":memory:\",\n",
        "    collection_name=\"Synthetic_Usecases\"\n",
        ")"
      ]
    },
    {
      "cell_type": "code",
      "execution_count": 8,
      "metadata": {
        "id": "GFDPrNBtb72o"
      },
      "outputs": [],
      "source": [
        "naive_retriever = vectorstore.as_retriever(search_kwargs={\"k\" : 10})"
      ]
    },
    {
      "cell_type": "markdown",
      "metadata": {
        "id": "MopbkNJAXVaN"
      },
      "source": [
        "### Semantic Vector Store"
      ]
    },
    {
      "cell_type": "code",
      "execution_count": 9,
      "metadata": {
        "id": "66EIEWiEYl5y"
      },
      "outputs": [],
      "source": [
        "semantic_chunker = SemanticChunker(\n",
        "    embeddings,\n",
        "    breakpoint_threshold_type=\"percentile\"\n",
        ")"
      ]
    },
    {
      "cell_type": "code",
      "execution_count": 10,
      "metadata": {
        "id": "ROcV7o68ZIq7"
      },
      "outputs": [],
      "source": [
        "semantic_documents = semantic_chunker.split_documents(synthetic_usecase_data[:20])"
      ]
    },
    {
      "cell_type": "code",
      "execution_count": 11,
      "metadata": {
        "id": "h3sl9QjyZhIe"
      },
      "outputs": [],
      "source": [
        "semantic_vectorstore = Qdrant.from_documents(\n",
        "    semantic_documents,\n",
        "    embeddings,\n",
        "    location=\":memory:\",\n",
        "    collection_name=\"Synthetic_Usecase_Data_Semantic_Chunks\"\n",
        ")"
      ]
    },
    {
      "cell_type": "code",
      "execution_count": 12,
      "metadata": {
        "id": "odVyDUHwZftc"
      },
      "outputs": [],
      "source": [
        "semantic_retriever = semantic_vectorstore.as_retriever(search_kwargs={\"k\" : 10})"
      ]
    },
    {
      "cell_type": "markdown",
      "metadata": {},
      "source": [
        "### Parent Document Vector Store"
      ]
    },
    {
      "cell_type": "code",
      "execution_count": 13,
      "metadata": {
        "id": "qJ53JJuMd_ZH"
      },
      "outputs": [],
      "source": [
        "parent_docs = synthetic_usecase_data\n",
        "child_splitter = RecursiveCharacterTextSplitter(chunk_size=750)"
      ]
    },
    {
      "cell_type": "code",
      "execution_count": 14,
      "metadata": {
        "colab": {
          "base_uri": "https://localhost:8080/"
        },
        "id": "rzFc-_9HlGQ-",
        "outputId": "223662dd-c36f-42f7-d1b0-b086e571484e"
      },
      "outputs": [],
      "source": [
        "client = QdrantClient(location=\":memory:\")\n",
        "\n",
        "client.create_collection(\n",
        "    collection_name=\"full_documents\",\n",
        "    vectors_config=models.VectorParams(size=1536, distance=models.Distance.COSINE)\n",
        ")\n",
        "\n",
        "parent_document_vectorstore = QdrantVectorStore(\n",
        "    collection_name=\"full_documents\", embedding=OpenAIEmbeddings(model=\"text-embedding-3-small\"), client=client\n",
        ")"
      ]
    },
    {
      "cell_type": "code",
      "execution_count": 15,
      "metadata": {
        "id": "BpWVjPf4fLUp"
      },
      "outputs": [],
      "source": [
        "store = InMemoryStore()\n",
        "\n",
        "parent_document_retriever = ParentDocumentRetriever(\n",
        "    vectorstore = parent_document_vectorstore,\n",
        "    docstore=store,\n",
        "    child_splitter=child_splitter,\n",
        ")"
      ]
    },
    {
      "cell_type": "code",
      "execution_count": 16,
      "metadata": {
        "id": "iQ2ZzfKigMZc"
      },
      "outputs": [],
      "source": [
        "parent_document_retriever.add_documents(parent_docs, ids=None)"
      ]
    },
    {
      "cell_type": "markdown",
      "metadata": {},
      "source": [
        "### Other Retrievers"
      ]
    },
    {
      "cell_type": "code",
      "execution_count": 17,
      "metadata": {
        "id": "qdF4wuj5R-cG"
      },
      "outputs": [],
      "source": [
        "bm25_retriever = BM25Retriever.from_documents(synthetic_usecase_data)"
      ]
    },
    {
      "cell_type": "code",
      "execution_count": 18,
      "metadata": {
        "id": "psHvO2K1v_ZQ"
      },
      "outputs": [],
      "source": [
        "compressor = CohereRerank(model=\"rerank-v3.5\")\n",
        "compression_retriever = ContextualCompressionRetriever(\n",
        "    base_compressor=compressor, base_retriever=naive_retriever\n",
        ")"
      ]
    },
    {
      "cell_type": "code",
      "execution_count": 19,
      "metadata": {
        "id": "pfM26ReXQjzU"
      },
      "outputs": [],
      "source": [
        "multi_query_retriever = MultiQueryRetriever.from_llm(\n",
        "    retriever=naive_retriever, llm=chat_model\n",
        ") "
      ]
    },
    {
      "cell_type": "code",
      "execution_count": 20,
      "metadata": {
        "id": "8j7jpZsKTxic"
      },
      "outputs": [],
      "source": [
        "retriever_list = [bm25_retriever, naive_retriever, parent_document_retriever, compression_retriever, multi_query_retriever]\n",
        "equal_weighting = [1/len(retriever_list)] * len(retriever_list)\n",
        "\n",
        "ensemble_retriever = EnsembleRetriever(\n",
        "    retrievers=retriever_list, weights=equal_weighting\n",
        ")"
      ]
    },
    {
      "cell_type": "markdown",
      "metadata": {},
      "source": [
        "## LangChain Retrieval Chains"
      ]
    },
    {
      "cell_type": "markdown",
      "metadata": {
        "id": "-x2SS4Rh0hiN"
      },
      "source": [
        "### Naive"
      ]
    },
    {
      "cell_type": "code",
      "execution_count": 21,
      "metadata": {
        "id": "0bvstS7mdOW3"
      },
      "outputs": [],
      "source": [
        "naive_retrieval_chain = (\n",
        "    {\"context\": itemgetter(\"question\") | naive_retriever, \"question\": itemgetter(\"question\")}\n",
        "    | RunnablePassthrough.assign(context=itemgetter(\"context\"))\n",
        "    | {\"response\": rag_prompt | chat_model, \"context\": itemgetter(\"context\")}\n",
        ")"
      ]
    },
    {
      "cell_type": "markdown",
      "metadata": {
        "id": "Ft1vt8HPR16w"
      },
      "source": [
        "### BM25"
      ]
    },
    {
      "cell_type": "code",
      "execution_count": 22,
      "metadata": {
        "id": "WR15EQG7SLuw"
      },
      "outputs": [],
      "source": [
        "bm25_retrieval_chain = (\n",
        "    {\"context\": itemgetter(\"question\") | bm25_retriever, \"question\": itemgetter(\"question\")}\n",
        "    | RunnablePassthrough.assign(context=itemgetter(\"context\"))\n",
        "    | {\"response\": rag_prompt | chat_model, \"context\": itemgetter(\"context\")}\n",
        ")"
      ]
    },
    {
      "cell_type": "markdown",
      "metadata": {
        "id": "Q-dcbFn2vpZF"
      },
      "source": [
        "### Contextual Compression"
      ]
    },
    {
      "cell_type": "code",
      "execution_count": 23,
      "metadata": {
        "id": "1BXqmxvHwX6T"
      },
      "outputs": [],
      "source": [
        "contextual_compression_retrieval_chain = (\n",
        "    {\"context\": itemgetter(\"question\") | compression_retriever, \"question\": itemgetter(\"question\")}\n",
        "    | RunnablePassthrough.assign(context=itemgetter(\"context\"))\n",
        "    | {\"response\": rag_prompt | chat_model, \"context\": itemgetter(\"context\")}\n",
        ")"
      ]
    },
    {
      "cell_type": "markdown",
      "metadata": {
        "id": "qqbghrBEQNn5"
      },
      "source": [
        "### Multi-Query"
      ]
    },
    {
      "cell_type": "code",
      "execution_count": 24,
      "metadata": {
        "id": "1vRc129jQ5WW"
      },
      "outputs": [],
      "source": [
        "multi_query_retrieval_chain = (\n",
        "    {\"context\": itemgetter(\"question\") | multi_query_retriever, \"question\": itemgetter(\"question\")}\n",
        "    | RunnablePassthrough.assign(context=itemgetter(\"context\"))\n",
        "    | {\"response\": rag_prompt | chat_model, \"context\": itemgetter(\"context\")}\n",
        ")"
      ]
    },
    {
      "cell_type": "markdown",
      "metadata": {
        "id": "EDEawBf_d_3G"
      },
      "source": [
        "### Parent Document"
      ]
    },
    {
      "cell_type": "code",
      "execution_count": 25,
      "metadata": {
        "id": "Qq_adt2KlSqp"
      },
      "outputs": [],
      "source": [
        "parent_document_retrieval_chain = (\n",
        "    {\"context\": itemgetter(\"question\") | parent_document_retriever, \"question\": itemgetter(\"question\")}\n",
        "    | RunnablePassthrough.assign(context=itemgetter(\"context\"))\n",
        "    | {\"response\": rag_prompt | chat_model, \"context\": itemgetter(\"context\")}\n",
        ")"
      ]
    },
    {
      "cell_type": "markdown",
      "metadata": {
        "id": "VUrIBKl_TwS9"
      },
      "source": [
        "### Ensemble"
      ]
    },
    {
      "cell_type": "code",
      "execution_count": 26,
      "metadata": {
        "id": "KZ__EZwpUKkd"
      },
      "outputs": [],
      "source": [
        "ensemble_retrieval_chain = (\n",
        "    {\"context\": itemgetter(\"question\") | ensemble_retriever, \"question\": itemgetter(\"question\")}\n",
        "    | RunnablePassthrough.assign(context=itemgetter(\"context\"))\n",
        "    | {\"response\": rag_prompt | chat_model, \"context\": itemgetter(\"context\")}\n",
        ")"
      ]
    },
    {
      "cell_type": "markdown",
      "metadata": {},
      "source": [
        "### Semantic Retriever"
      ]
    },
    {
      "cell_type": "code",
      "execution_count": 27,
      "metadata": {
        "id": "xWE_0J0mZveG"
      },
      "outputs": [],
      "source": [
        "semantic_retrieval_chain = (\n",
        "    {\"context\": itemgetter(\"question\") | semantic_retriever, \"question\": itemgetter(\"question\")}\n",
        "    | RunnablePassthrough.assign(context=itemgetter(\"context\"))\n",
        "    | {\"response\": rag_prompt | chat_model, \"context\": itemgetter(\"context\")}\n",
        ")"
      ]
    },
    {
      "cell_type": "markdown",
      "metadata": {},
      "source": [
        "## Sample Requests"
      ]
    },
    {
      "cell_type": "code",
      "execution_count": 28,
      "metadata": {
        "colab": {
          "base_uri": "https://localhost:8080/",
          "height": 36
        },
        "id": "LI-5ueEddku9",
        "outputId": "7f3cec18-5f4e-41bb-cf71-51ba0be5388e"
      },
      "outputs": [
        {
          "data": {
            "text/plain": [
              "'Based on the provided data, the most common project domain is \"Healthcare / MedTech,\" which appears multiple times in the dataset.'"
            ]
          },
          "execution_count": 28,
          "metadata": {},
          "output_type": "execute_result"
        }
      ],
      "source": [
        "naive_retrieval_chain.invoke({\"question\" : \"What is the most common project domain?\"})[\"response\"].content"
      ]
    },
    {
      "cell_type": "code",
      "execution_count": 29,
      "metadata": {
        "colab": {
          "base_uri": "https://localhost:8080/",
          "height": 36
        },
        "id": "43zdcdUydtXh",
        "outputId": "db874e67-f568-4ed1-b863-b7c17b387052"
      },
      "outputs": [
        {
          "data": {
            "text/plain": [
              "'Yes, there are use cases related to security. Specifically, one project titled \"PlanPilot 35\" involves a federated learning toolkit aimed at improving privacy in healthcare applications, which can be associated with security and privacy enhancement. Additionally, there is a project titled \"LatticeFlow\" within the healthcare/MedTech domain that mentions security in its secondary domain, potentially indicating a use case involving security considerations.'"
            ]
          },
          "execution_count": 29,
          "metadata": {},
          "output_type": "execute_result"
        }
      ],
      "source": [
        "naive_retrieval_chain.invoke({\"question\" : \"Were there any usecases about security?\"})[\"response\"].content"
      ]
    },
    {
      "cell_type": "code",
      "execution_count": 30,
      "metadata": {
        "colab": {
          "base_uri": "https://localhost:8080/",
          "height": 70
        },
        "id": "lpG6rlvvvKFq",
        "outputId": "a1b330b0-628e-41be-d829-9c1d55e781f5"
      },
      "outputs": [
        {
          "data": {
            "text/plain": [
              "'The judges generally had positive comments about the fintech projects, highlighting their technical quality, promising ideas, and real-world impact. For example, one project was noted as \"Technically ambitious and well-executed,\" while another was described as a \"promising idea with robust experimental validation.\" Overall, the judges appreciated the innovative approaches and strong execution of the fintech-related projects.'"
            ]
          },
          "execution_count": 30,
          "metadata": {},
          "output_type": "execute_result"
        }
      ],
      "source": [
        "naive_retrieval_chain.invoke({\"question\" : \"What did judges have to say about the fintech projects?\"})[\"response\"].content"
      ]
    },
    {
      "cell_type": "code",
      "execution_count": 31,
      "metadata": {
        "colab": {
          "base_uri": "https://localhost:8080/",
          "height": 53
        },
        "id": "oY9qzmm3SOrF",
        "outputId": "4d4f450f-5978-460f-f242-b32407868353"
      },
      "outputs": [
        {
          "data": {
            "text/plain": [
              "'Based on the provided data, the most common project domain is not explicitly stated. However, among the sample projects listed, the domains include Productivity Assistants, E-commerce / Marketplaces, Healthcare / MedTech, and Finance / FinTech. Since only a few entries are provided and they are all different, I cannot determine the most common project domain from this limited data.'"
            ]
          },
          "execution_count": 31,
          "metadata": {},
          "output_type": "execute_result"
        }
      ],
      "source": [
        "bm25_retrieval_chain.invoke({\"question\" : \"What is the most common project domain?\"})[\"response\"].content"
      ]
    },
    {
      "cell_type": "code",
      "execution_count": 32,
      "metadata": {
        "colab": {
          "base_uri": "https://localhost:8080/",
          "height": 36
        },
        "id": "igfinyneSQkh",
        "outputId": "9752d4a9-dd16-45b1-f63f-a76e93a05eb3"
      },
      "outputs": [
        {
          "data": {
            "text/plain": [
              "'Yes, there is a use case related to security. The project titled \"SecureNest 49\" falls under the domains of E‑commerce / Marketplaces and Legal / Compliance, and involves a document summarization and retrieval system for enterprise knowledge bases.'"
            ]
          },
          "execution_count": 32,
          "metadata": {},
          "output_type": "execute_result"
        }
      ],
      "source": [
        "bm25_retrieval_chain.invoke({\"question\" : \"Were there any usecases about security?\"})[\"response\"].content"
      ]
    },
    {
      "cell_type": "code",
      "execution_count": 33,
      "metadata": {
        "colab": {
          "base_uri": "https://localhost:8080/",
          "height": 53
        },
        "id": "w0H7pV_USSMQ",
        "outputId": "bdead654-3109-4143-9a30-e1d6ca8dc534"
      },
      "outputs": [
        {
          "data": {
            "text/plain": [
              "'Judges viewed the fintech project, \"SynthMind,\" positively. They described it as conceptually strong, indicating confidence in the idea and its potential. However, they also noted that the results need more benchmarking, suggesting that while the concept is promising, further evaluation and comparison are necessary to fully establish its effectiveness.'"
            ]
          },
          "execution_count": 33,
          "metadata": {},
          "output_type": "execute_result"
        }
      ],
      "source": [
        "bm25_retrieval_chain.invoke({\"question\" : \"What did judges have to say about the fintech projects?\"})[\"response\"].content"
      ]
    },
    {
      "cell_type": "code",
      "execution_count": 34,
      "metadata": {
        "colab": {
          "base_uri": "https://localhost:8080/",
          "height": 36
        },
        "id": "V3iGpokswcBb",
        "outputId": "f15d2aa1-5e8b-417d-f623-eb835d072e59"
      },
      "outputs": [
        {
          "data": {
            "text/plain": [
              "'Based on the provided data, the most common project domain appears to be \"Security,\" as it is explicitly mentioned for one project, but the dataset snippet includes multiple domains such as Healthcare / MedTech, Creative / Design / Media, and Security. Since the sample shows only a few entries, I cannot conclusively determine the most frequent domain across the entire dataset. However, from this small sample, \"Security\" does not seem to be the most common. \\n\\nIf you need a definitive answer, I would recommend analyzing the full dataset for the frequency of each project domain.'"
            ]
          },
          "execution_count": 34,
          "metadata": {},
          "output_type": "execute_result"
        }
      ],
      "source": [
        "contextual_compression_retrieval_chain.invoke({\"question\" : \"What is the most common project domain?\"})[\"response\"].content"
      ]
    },
    {
      "cell_type": "code",
      "execution_count": 35,
      "metadata": {
        "colab": {
          "base_uri": "https://localhost:8080/",
          "height": 53
        },
        "id": "7u_k0i4OweUd",
        "outputId": "be5fccc8-2352-4189-c524-bbeaa28cf799"
      },
      "outputs": [
        {
          "data": {
            "text/plain": [
              "'Based on the provided context, there are no explicit use cases related to security. The examples mentioned focus on federated learning toolkits aimed at improving privacy in healthcare applications, but none specifically mention security.'"
            ]
          },
          "execution_count": 35,
          "metadata": {},
          "output_type": "execute_result"
        }
      ],
      "source": [
        "contextual_compression_retrieval_chain.invoke({\"question\" : \"Were there any usecases about security?\"})[\"response\"].content"
      ]
    },
    {
      "cell_type": "code",
      "execution_count": 36,
      "metadata": {
        "colab": {
          "base_uri": "https://localhost:8080/",
          "height": 70
        },
        "id": "zn1EqaGqweXN",
        "outputId": "42bc5972-4164-46eb-f49d-4272f39bb89b"
      },
      "outputs": [
        {
          "data": {
            "text/plain": [
              "'The judges had positive comments about the fintech project \"Pathfinder 27.\" They noted it had excellent code quality and made good use of open-source libraries.'"
            ]
          },
          "execution_count": 36,
          "metadata": {},
          "output_type": "execute_result"
        }
      ],
      "source": [
        "contextual_compression_retrieval_chain.invoke({\"question\" : \"What did judges have to say about the fintech projects?\"})[\"response\"].content"
      ]
    },
    {
      "cell_type": "code",
      "execution_count": 37,
      "metadata": {
        "colab": {
          "base_uri": "https://localhost:8080/",
          "height": 53
        },
        "id": "CGgNuOb3Q3M9",
        "outputId": "c5273ecf-da35-40b8-fbdb-0f8beab425f7"
      },
      "outputs": [
        {
          "data": {
            "text/plain": [
              "'The most common project domain in the provided data is \"Healthcare / MedTech,\" which appears multiple times.'"
            ]
          },
          "execution_count": 37,
          "metadata": {},
          "output_type": "execute_result"
        }
      ],
      "source": [
        "multi_query_retrieval_chain.invoke({\"question\" : \"What is the most common project domain?\"})[\"response\"].content"
      ]
    },
    {
      "cell_type": "code",
      "execution_count": 38,
      "metadata": {
        "colab": {
          "base_uri": "https://localhost:8080/",
          "height": 36
        },
        "id": "aAlSthxrRDBC",
        "outputId": "230ff807-23ae-4d25-8d11-cfdbed0b77cb"
      },
      "outputs": [
        {
          "data": {
            "text/plain": [
              "'Yes, there are usecases related to security. Specifically, the projects titled \"A federated learning toolkit improving privacy in healthcare applications\" and \"A document summarization and retrieval system for enterprise knowledge bases\" are relevant to security, as they focus on privacy and secure information management.'"
            ]
          },
          "execution_count": 38,
          "metadata": {},
          "output_type": "execute_result"
        }
      ],
      "source": [
        "multi_query_retrieval_chain.invoke({\"question\" : \"Were there any usecases about security?\"})[\"response\"].content"
      ]
    },
    {
      "cell_type": "code",
      "execution_count": 39,
      "metadata": {
        "colab": {
          "base_uri": "https://localhost:8080/",
          "height": 88
        },
        "id": "Uv1mpCK8REs4",
        "outputId": "00fbc22a-ed9b-4613-9695-0b179e3f8369"
      },
      "outputs": [
        {
          "data": {
            "text/plain": [
              "'Judges generally had positive feedback on the fintech projects. For example, the project \"Pathfinder 27\" received a score of 81 and was praised for its \"excellent code quality and use of open-source libraries.\" Another project, \"SkyForge,\" scored 94 and was described as a \"clever solution with measurable environmental benefit.\" Similarly, \"CreateFlow 43\" scored 62, with judges noting it as \"a forward-looking idea with solid supporting data.\" Overall, the judges appreciated the conceptual strength, potential impact, and quality of work on these fintech projects.'"
            ]
          },
          "execution_count": 39,
          "metadata": {},
          "output_type": "execute_result"
        }
      ],
      "source": [
        "multi_query_retrieval_chain.invoke({\"question\" : \"What did judges have to say about the fintech projects?\"})[\"response\"].content"
      ]
    },
    {
      "cell_type": "code",
      "execution_count": 40,
      "metadata": {
        "colab": {
          "base_uri": "https://localhost:8080/",
          "height": 70
        },
        "id": "TXB5i89Zly5W",
        "outputId": "94c240be-7c5b-4c58-9eee-56d93285a054"
      },
      "outputs": [
        {
          "data": {
            "text/plain": [
              "'Based on the provided data, the project domains mentioned are Security, Creative / Design / Media, Healthcare / MedTech, and Productivity Assistants. Since the sample includes only a few projects, I cannot definitively determine the most common domain overall. However, within this sample, each domain appears only once, so there is no clear majority. If you have a larger dataset, I could help analyze it to find the most common project domain.'"
            ]
          },
          "execution_count": 40,
          "metadata": {},
          "output_type": "execute_result"
        }
      ],
      "source": [
        "parent_document_retrieval_chain.invoke({\"question\" : \"What is the most common project domain?\"})[\"response\"].content"
      ]
    },
    {
      "cell_type": "code",
      "execution_count": 41,
      "metadata": {
        "colab": {
          "base_uri": "https://localhost:8080/",
          "height": 36
        },
        "id": "V5F1T-wNl3cg",
        "outputId": "9b81e72e-5db7-4b8a-b25b-400ea0df5335"
      },
      "outputs": [
        {
          "data": {
            "text/plain": [
              "'Based on the provided context, there are no specific use cases explicitly related to security. The projects mentioned focus on federated learning to improve privacy in healthcare applications, but security is not directly highlighted as a use case.'"
            ]
          },
          "execution_count": 41,
          "metadata": {},
          "output_type": "execute_result"
        }
      ],
      "source": [
        "parent_document_retrieval_chain.invoke({\"question\" : \"Were there any usecases about security?\"})[\"response\"].content"
      ]
    },
    {
      "cell_type": "code",
      "execution_count": 42,
      "metadata": {
        "colab": {
          "base_uri": "https://localhost:8080/",
          "height": 70
        },
        "id": "ZqARszGzvGcG",
        "outputId": "8867f83c-db13-4db4-d57f-9bd51d32cd8a"
      },
      "outputs": [
        {
          "data": {
            "text/plain": [
              "'The judges had positive comments about the fintech projects. For example, TrendLens was described as \"Technically ambitious and well-executed,\" and WealthifyAI was noted for being a \"Comprehensive and technically mature approach.\" Overall, the judges recognized the promising and well-developed nature of these fintech projects.'"
            ]
          },
          "execution_count": 42,
          "metadata": {},
          "output_type": "execute_result"
        }
      ],
      "source": [
        "parent_document_retrieval_chain.invoke({\"question\" : \"What did judges have to say about the fintech projects?\"})[\"response\"].content"
      ]
    },
    {
      "cell_type": "code",
      "execution_count": 43,
      "metadata": {
        "colab": {
          "base_uri": "https://localhost:8080/",
          "height": 70
        },
        "id": "0lMvqL88UQI-",
        "outputId": "d86dd5f7-0a13-4836-c0ce-cc4c431fd889"
      },
      "outputs": [
        {
          "data": {
            "text/plain": [
              "'Based on the provided data, the most common project domain among the listed projects is \"Finance / FinTech,\" which appears multiple times in the dataset.'"
            ]
          },
          "execution_count": 43,
          "metadata": {},
          "output_type": "execute_result"
        }
      ],
      "source": [
        "ensemble_retrieval_chain.invoke({\"question\" : \"What is the most common project domain?\"})[\"response\"].content"
      ]
    },
    {
      "cell_type": "code",
      "execution_count": 44,
      "metadata": {
        "colab": {
          "base_uri": "https://localhost:8080/",
          "height": 53
        },
        "id": "MNFWLYECURI1",
        "outputId": "b17973b5-66a9-4481-97d5-880b5754b5c5"
      },
      "outputs": [
        {
          "data": {
            "text/plain": [
              "'Yes, there was at least one use case related to security. The project titled \"SecureNest 49\" involves a document summarization and retrieval system for enterprise knowledge bases, which is a security-related application in the context of legal and compliance domains. Additionally, \"SecureNest 28\" focuses on hardware-aware model quantization benchmarking, which can also relate to security in hardware and model robustness.'"
            ]
          },
          "execution_count": 44,
          "metadata": {},
          "output_type": "execute_result"
        }
      ],
      "source": [
        "ensemble_retrieval_chain.invoke({\"question\" : \"Were there any usecases about security?\"})[\"response\"].content"
      ]
    },
    {
      "cell_type": "code",
      "execution_count": 45,
      "metadata": {
        "colab": {
          "base_uri": "https://localhost:8080/",
          "height": 88
        },
        "id": "A7qbHfWgUR4c",
        "outputId": "f7373144-59ef-4fc7-b75d-ca00e7df881e"
      },
      "outputs": [
        {
          "data": {
            "text/plain": [
              "'The judges\\' comments on the fintech projects were generally positive. For example, the project \"Pathfinder 27\" received praise for \"excellent code quality and use of open-source libraries,\" and \"SecureNest 47\" was described as having a \"comprehensive and technically mature approach.\" Overall, the judges appreciated the quality, innovation, and technical strength of the fintech projects.'"
            ]
          },
          "execution_count": 45,
          "metadata": {},
          "output_type": "execute_result"
        }
      ],
      "source": [
        "ensemble_retrieval_chain.invoke({\"question\" : \"What did judges have to say about the fintech projects?\"})[\"response\"].content"
      ]
    },
    {
      "cell_type": "code",
      "execution_count": 46,
      "metadata": {
        "colab": {
          "base_uri": "https://localhost:8080/",
          "height": 70
        },
        "id": "0lN2j-e4Z0SD",
        "outputId": "ef483e21-7200-4dfc-b8bf-aed4f23587b2"
      },
      "outputs": [
        {
          "data": {
            "text/plain": [
              "'Based on the provided data, the most common project domain appears to be \"Legal / Compliance,\" which is mentioned multiple times. Would you like to see a detailed count or further analysis?'"
            ]
          },
          "execution_count": 46,
          "metadata": {},
          "output_type": "execute_result"
        }
      ],
      "source": [
        "semantic_retrieval_chain.invoke({\"question\" : \"What is the most common project domain?\"})[\"response\"].content"
      ]
    },
    {
      "cell_type": "code",
      "execution_count": 47,
      "metadata": {
        "colab": {
          "base_uri": "https://localhost:8080/",
          "height": 53
        },
        "id": "xdqfBH1SZ3f9",
        "outputId": "ed62b2d1-7586-46cc-aaf4-c54192a56155"
      },
      "outputs": [
        {
          "data": {
            "text/plain": [
              "'Yes, there are usecases related to security in the provided context. Specifically, the projects \"SynthMind\" and \"BioForge\" are associated with the security domain. \"SynthMind\" involves a medical imaging solution improving early diagnosis, and \"BioForge\" is a medical imaging solution that exceeds expectations in creativity and usability within the security secondary domain.'"
            ]
          },
          "execution_count": 47,
          "metadata": {},
          "output_type": "execute_result"
        }
      ],
      "source": [
        "semantic_retrieval_chain.invoke({\"question\" : \"Were there any usecases about security?\"})[\"response\"].content"
      ]
    },
    {
      "cell_type": "code",
      "execution_count": 48,
      "metadata": {
        "colab": {
          "base_uri": "https://localhost:8080/",
          "height": 70
        },
        "id": "rAcAObZnZ4o6",
        "outputId": "3f1cade3-41e4-4e42-ef71-048dd18e5e3a"
      },
      "outputs": [
        {
          "data": {
            "text/plain": [
              "'Judges had the following comments about the fintech projects:\\n\\n- For \"TrendLens 19,\" judges described it as \"Technically ambitious and well-executed.\"\\n- For \"WealthifyAI 16,\" the project was called \"Comprehensive and technically mature approach.\"\\n- For \"AutoMate 5,\" judges noted it as \"A forward-looking idea with solid supporting data.\"\\n- For \"InsightAI 1,\" judges considered it \"Technically ambitious and well-executed.\"\\n\\nOverall, the judges praised the fintech projects for their technical ambition, thoroughness, and promising approach.'"
            ]
          },
          "execution_count": 48,
          "metadata": {},
          "output_type": "execute_result"
        }
      ],
      "source": [
        "semantic_retrieval_chain.invoke({\"question\" : \"What did judges have to say about the fintech projects?\"})[\"response\"].content"
      ]
    },
    {
      "cell_type": "markdown",
      "metadata": {},
      "source": [
        "### some grouping for requests"
      ]
    },
    {
      "cell_type": "code",
      "execution_count": 49,
      "metadata": {},
      "outputs": [],
      "source": [
        "# --- 1) Chain registry (use your existing chain objects) ---\n",
        "CHAINS = {\n",
        "    \"naive\": naive_retrieval_chain,\n",
        "    \"bm25\": bm25_retrieval_chain,\n",
        "    \"compression\": contextual_compression_retrieval_chain,\n",
        "    \"multi_query\": multi_query_retrieval_chain,\n",
        "    \"parent_doc\": parent_document_retrieval_chain,\n",
        "    \"ensemble\": ensemble_retrieval_chain,\n",
        "    \"semantic\": semantic_retrieval_chain,\n",
        "}\n",
        "\n",
        "# --- 2) Minimal helpers to normalize outputs ---\n",
        "def _to_text(resp_dict):\n",
        "    \"\"\"Your chains return {'response': <AIMessage|str>, 'context': [...] }.\"\"\"\n",
        "    r = resp_dict.get(\"response\")\n",
        "    if hasattr(r, \"content\"):  # AIMessage\n",
        "        return r.content\n",
        "    return str(r) if r is not None else \"\"\n",
        "\n",
        "def _to_context(resp_dict):\n",
        "    return resp_dict.get(\"context\", [])\n",
        "\n",
        "# --- 3) Run a single question across selected chains ---\n",
        "def run_all(question: str, chains=CHAINS):\n",
        "    results = {}\n",
        "    for name, ch in chains.items():\n",
        "        out = ch.invoke({\"question\": question})\n",
        "        results[name] = {\n",
        "            \"answer\": _to_text(out),\n",
        "            \"contexts\": _to_context(out),\n",
        "        }\n",
        "    return results\n",
        "\n",
        "# --- 4) Convenience: quick pretty print for ad-hoc inspection ---\n",
        "def print_quick(results, max_len=200):\n",
        "    for name, rec in results.items():\n",
        "        ans = rec[\"answer\"].strip().replace(\"\\n\", \" \")\n",
        "        print(f\"[{name}] {ans[:max_len]}{'…' if len(ans) > max_len else ''}\")\n"
      ]
    },
    {
      "cell_type": "code",
      "execution_count": 50,
      "metadata": {},
      "outputs": [
        {
          "name": "stdout",
          "output_type": "stream",
          "text": [
            "[naive] Based on the provided data, the most common project domain is \"Healthcare / MedTech,\" which appears multiple times in the dataset.\n",
            "[bm25] Based on the provided data, the project domains mentioned include 'Productivity Assistants,' 'E‑commerce / Marketplaces,' 'Healthcare / MedTech,' and 'Finance / FinTech.' Since this is just a small sa…\n",
            "[compression] Based on the provided data, the most common project domain appears to be \"Security,\" as it is mentioned alongside other project domains, and the context suggests multiple projects are categorized unde…\n",
            "[multi_query] The most common project domain in the provided data appears to be \"Writing & Content,\" which is mentioned multiple times across different projects.\n",
            "[parent_doc] Based on the provided data, the most common project domain is not explicitly detailed across all entries. However, among the samples shown, the domain \"Healthcare / MedTech\" appears twice, while \"Secu…\n",
            "[ensemble] Based on the provided data, the most common project domain appears to be \"Security,\" as it is mentioned multiple times throughout the dataset.\n",
            "[semantic] The most common project domain in the provided data appears to be \"Legal / Compliance,\" which is listed more than once compared to other domains.\n"
          ]
        }
      ],
      "source": [
        "# single question across all chains\n",
        "res = run_all(\"What is the most common project domain?\")\n",
        "print_quick(res)"
      ]
    },
    {
      "cell_type": "code",
      "execution_count": 51,
      "metadata": {},
      "outputs": [],
      "source": [
        "def run_batch(questions, chains=CHAINS):\n",
        "    \"\"\"\n",
        "    Returns: dict[chain_name] -> list of {question, answer, contexts}\n",
        "    \"\"\"\n",
        "    payloads = [{\"question\": q} for q in questions]\n",
        "    all_results = {}\n",
        "    for name, ch in chains.items():\n",
        "        outs = ch.batch(payloads)\n",
        "        all_results[name] = [\n",
        "            {\n",
        "                \"question\": q[\"question\"],\n",
        "                \"answer\": _to_text(o),\n",
        "                \"contexts\": _to_context(o),\n",
        "            }\n",
        "            for q, o in zip(payloads, outs)\n",
        "        ]\n",
        "    return all_results\n",
        "\n",
        "\n",
        "def print_results(all_results, max_answer=150, max_context=100, max_ctxs=2):\n",
        "    \"\"\"\n",
        "    Nicely print abridged chain results for inspection.\n",
        "    \"\"\"\n",
        "    for name, records in all_results.items():\n",
        "        print(f\"\\n=== {name.upper()} ===\")\n",
        "        for rec in records:\n",
        "            print(f\"Q: {rec['question']}\")\n",
        "            ans = rec['answer'].strip().replace(\"\\n\", \" \")\n",
        "            print(f\"A: {ans[:max_answer]}{'…' if len(ans) > max_answer else ''}\")\n",
        "            ctxs = rec['contexts'][:max_ctxs]\n",
        "            for i, c in enumerate(ctxs, 1):\n",
        "                snippet = c.page_content.strip().replace(\"\\n\", \" \")\n",
        "                print(f\"  [ctx{i}] {snippet[:max_context]}{'…' if len(snippet) > max_context else ''}\")\n",
        "            print()  # blank line between questions\n"
      ]
    },
    {
      "cell_type": "code",
      "execution_count": 52,
      "metadata": {},
      "outputs": [
        {
          "name": "stdout",
          "output_type": "stream",
          "text": [
            "\n",
            "=== NAIVE ===\n",
            "Q: What is the most common project domain?\n",
            "A: Based on the provided data, the most common project domain appears to be \"Healthcare / MedTech,\" which is listed multiple times among the projects.\n",
            "  [ctx1] A synthetic data generator for low-resource domain adaptation tasks.\n",
            "  [ctx2] A synthetic data generator for low-resource domain adaptation tasks.\n",
            "\n",
            "Q: Were there any usecases about security?\n",
            "A: Yes, there are usecases related to security. For example, the project titled \"WealthifyAI 16\" involves a federated learning toolkit that improves priv…\n",
            "  [ctx1] A federated learning toolkit improving privacy in healthcare applications.\n",
            "  [ctx2] A federated learning toolkit improving privacy in healthcare applications.\n",
            "\n",
            "\n",
            "=== BM25 ===\n",
            "Q: What is the most common project domain?\n",
            "A: Based on the provided data, there are multiple project domains mentioned, including Productivity Assistants, E‑commerce / Marketplaces, Healthcare / M…\n",
            "  [ctx1] An adaptive fine-tuning pipeline for multilingual reasoning models.\n",
            "  [ctx2] A document summarization and retrieval system for enterprise knowledge bases.\n",
            "\n",
            "Q: Were there any usecases about security?\n",
            "A: Yes, there was a use case related to security. The project \"SecureNest 49\" is in the domain of E‑commerce / Marketplaces with a secondary focus on Leg…\n",
            "  [ctx1] An adaptive fine-tuning pipeline for multilingual reasoning models.\n",
            "  [ctx2] A document summarization and retrieval system for enterprise knowledge bases.\n",
            "\n",
            "\n",
            "=== COMPRESSION ===\n",
            "Q: What is the most common project domain?\n",
            "A: Based on the provided data, the most common project domain appears to be \"Synthetic data generation for low-resource domain adaptation tasks,\" which i…\n",
            "  [ctx1] A synthetic data generator for low-resource domain adaptation tasks.\n",
            "  [ctx2] A synthetic data generator for low-resource domain adaptation tasks.\n",
            "\n",
            "Q: Were there any usecases about security?\n",
            "A: Based on the provided context, there are no explicit use cases related to security. The projects mentioned focus on improving privacy in healthcare ap…\n",
            "  [ctx1] A federated learning toolkit improving privacy in healthcare applications.\n",
            "  [ctx2] A federated learning toolkit improving privacy in healthcare applications.\n",
            "\n",
            "\n",
            "=== MULTI_QUERY ===\n",
            "Q: What is the most common project domain?\n",
            "A: The most common project domain in the provided data is \"Healthcare / MedTech,\" appearing multiple times across different projects.\n",
            "  [ctx1] An AI-powered platform optimizing logistics routes for sustainability.\n",
            "  [ctx2] An AI-powered platform optimizing logistics routes for sustainability.\n",
            "\n",
            "Q: Were there any usecases about security?\n",
            "A: Yes, there are use cases about security. Specifically, one project titled \"Project Aurora\" in the Security domain focuses on a low-latency inference s…\n",
            "  [ctx1] A federated learning toolkit improving privacy in healthcare applications.\n",
            "  [ctx2] A federated learning toolkit improving privacy in healthcare applications.\n",
            "\n",
            "\n",
            "=== PARENT_DOC ===\n",
            "Q: What is the most common project domain?\n",
            "A: Based on the provided data, the project domains mentioned are Security, Creative / Design / Media, Healthcare / MedTech, and Productivity Assistants. …\n",
            "  [ctx1] A synthetic data generator for low-resource domain adaptation tasks.\n",
            "  [ctx2] A synthetic data generator for low-resource domain adaptation tasks.\n",
            "\n",
            "Q: Were there any usecases about security?\n",
            "A: Based on the provided context, there are no specific usecases about security mentioned. The projects focus on federated learning to improve privacy, p…\n",
            "  [ctx1] A federated learning toolkit improving privacy in healthcare applications.\n",
            "  [ctx2] A federated learning toolkit improving privacy in healthcare applications.\n",
            "\n",
            "\n",
            "=== ENSEMBLE ===\n",
            "Q: What is the most common project domain?\n",
            "A: Based on the provided data, the most common project domain appears to be \"Legal / Compliance,\" which is listed for at least two projects (\"InsightAI 3…\n",
            "  [ctx1] A synthetic data generator for low-resource domain adaptation tasks.\n",
            "  [ctx2] An interactive 3D environment for generative design and architecture.\n",
            "\n",
            "Q: Were there any usecases about security?\n",
            "A: Yes, there is a use case related to security. The project titled \"SecureNest\" falls under the domain of E‑commerce / Marketplaces with a secondary foc…\n",
            "  [ctx1] A federated learning toolkit improving privacy in healthcare applications.\n",
            "  [ctx2] An AI model compression suite enabling on-device reasoning for IoT sensors.\n",
            "\n",
            "\n",
            "=== SEMANTIC ===\n",
            "Q: What is the most common project domain?\n",
            "A: Based on the provided data, the most common project domain appears to be \"Legal / Compliance,\" which is mentioned twice. Other domains such as \"Develo…\n",
            "  [ctx1] A synthetic data generator for low-resource domain adaptation tasks.\n",
            "  [ctx2] A synthetic data generator for low-resource domain adaptation tasks.\n",
            "\n",
            "Q: Were there any usecases about security?\n",
            "A: Yes, there are use cases related to security in the provided data. Specifically, one project titled \"SynthMind\" is described as a medical imaging solu…\n",
            "  [ctx1] A federated learning toolkit improving privacy in healthcare applications.\n",
            "  [ctx2] A federated learning toolkit improving privacy in healthcare applications.\n",
            "\n"
          ]
        }
      ],
      "source": [
        "QUESTIONS = [\n",
        "    \"What is the most common project domain?\",\n",
        "    \"Were there any usecases about security?\",\n",
        "]\n",
        "\n",
        "batched_results = run_batch(QUESTIONS)\n",
        "print_results(batched_results)\n"
      ]
    },
    {
      "cell_type": "code",
      "execution_count": null,
      "metadata": {},
      "outputs": [],
      "source": []
    }
  ],
  "metadata": {
    "colab": {
      "provenance": [],
      "toc_visible": true
    },
    "kernelspec": {
      "display_name": "13-advanced-retrieval",
      "language": "python",
      "name": "python3"
    },
    "language_info": {
      "codemirror_mode": {
        "name": "ipython",
        "version": 3
      },
      "file_extension": ".py",
      "mimetype": "text/x-python",
      "name": "python",
      "nbconvert_exporter": "python",
      "pygments_lexer": "ipython3",
      "version": "3.13.2"
    }
  },
  "nbformat": 4,
  "nbformat_minor": 0
}
